{
 "cells": [
  {
   "cell_type": "markdown",
   "metadata": {},
   "source": [
    "Tu primer programa"
   ]
  },
  {
   "cell_type": "code",
   "execution_count": 16,
   "metadata": {},
   "outputs": [
    {
     "name": "stdout",
     "output_type": "stream",
     "text": [
      "Today's date is: 2022-02-15\n",
      "Today's date is: 2022-02-15 17:48:28.226094\n"
     ]
    }
   ],
   "source": [
    "#Es necesario importar las depencendias necesarias\n",
    "from datetime import date\n",
    "from datetime import datetime\n",
    "\n",
    "#Dia actual\n",
    "today = date.today()\n",
    "\n",
    "#Fecha Actual con hora\n",
    "now = datetime.now()\n",
    "\n",
    "print(\"Today's date is: \" + str(today))\n",
    "\n",
    "print(\"Today's date is: \" + str(now))"
   ]
  },
  {
   "cell_type": "markdown",
   "metadata": {},
   "source": [
    "Construir un convertidor de unidades."
   ]
  },
  {
   "cell_type": "code",
   "execution_count": 24,
   "metadata": {},
   "outputs": [
    {
     "name": "stdout",
     "output_type": "stream",
     "text": [
      "20 parsec are equal to: 65.2312 lightyears\n"
     ]
    }
   ],
   "source": [
    "#Programa de conversión entre parsecs y años luz.\n",
    "\n",
    "parsec = 20\n",
    "\n",
    "lightyears = 3.26156 * parsec\n",
    "\n",
    "print(str(parsec) + \" parsecs are equal to: \" + str(lightyears) + \" lightyears\")"
   ]
  },
  {
   "cell_type": "code",
   "execution_count": 23,
   "metadata": {},
   "outputs": [
    {
     "name": "stdout",
     "output_type": "stream",
     "text": [
      "2022-02-15\n",
      "Today's date is: 2022-02-15\n"
     ]
    }
   ],
   "source": [
    "# Importamos la biblioteca \n",
    "from datetime import date\n",
    "\n",
    "# Obtenemos la fecha de hoy\n",
    "date.today()\n",
    "\n",
    "# Mostramos la fecha en la consola\n",
    "print(date.today())\n",
    "\n",
    "print(\"Today's date is: \" + str(date.today()))"
   ]
  },
  {
   "cell_type": "code",
   "execution_count": 21,
   "metadata": {},
   "outputs": [
    {
     "name": "stdout",
     "output_type": "stream",
     "text": [
      "Bienvenido al programa de bienvenida\n",
      "Saludos: \n"
     ]
    }
   ],
   "source": [
    "print(\"Bienvenido al programa de bienvenida\")\n",
    "#name = input(\"Introduzca su nombre \")\n",
    "print(\"Saludos: \" + name)"
   ]
  }
 ],
 "metadata": {
  "interpreter": {
   "hash": "c3d1d3774da67434792af1f7f611779dd123df104e44b8130ced968e50017c0b"
  },
  "kernelspec": {
   "display_name": "Python 3.9.2 64-bit ('3.9.2')",
   "language": "python",
   "name": "python3"
  },
  "language_info": {
   "codemirror_mode": {
    "name": "ipython",
    "version": 3
   },
   "file_extension": ".py",
   "mimetype": "text/x-python",
   "name": "python",
   "nbconvert_exporter": "python",
   "pygments_lexer": "ipython3",
   "version": "3.9.2"
  },
  "orig_nbformat": 4
 },
 "nbformat": 4,
 "nbformat_minor": 2
}
