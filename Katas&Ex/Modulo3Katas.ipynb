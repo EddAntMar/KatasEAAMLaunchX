{
 "cells": [
  {
   "cell_type": "markdown",
   "metadata": {},
   "source": [
    "Ejercicios de Lógica Booleana"
   ]
  },
  {
   "cell_type": "code",
   "execution_count": 22,
   "metadata": {},
   "outputs": [
    {
     "name": "stdout",
     "output_type": "stream",
     "text": [
      "¡Advertencia! Velocidad del asteroide excede límite.\n"
     ]
    }
   ],
   "source": [
    "# Añadir el código necesario para crear una variable que guarde la velocidad del asteroide.\n",
    "# Escribe una expresión de prueba para calcular si necesita una advertencia.\n",
    "# Agregue las instrucciones que se ejecutarán si la expresión de prueba es true o false.\n",
    "\n",
    "vel_asteroide = 49\n",
    "\n",
    "if vel_asteroide > 25:\n",
    "    print ('¡Advertencia! Velocidad del asteroide excede límite.')\n",
    "else:\n",
    "    print ('Velocidad del asteroide sin contratiempo.')"
   ]
  },
  {
   "cell_type": "code",
   "execution_count": 23,
   "metadata": {},
   "outputs": [
    {
     "name": "stdout",
     "output_type": "stream",
     "text": [
      "Velocidad dentro del rango! No existe posibilidad de avistamiento de asteroide cerca de la atmósfera terrestre.\n"
     ]
    }
   ],
   "source": [
    "# Agrega el código para crear una variable para un asteroide que viaja a 19 km/s\n",
    "# Escribe varias expresiones de prueba para determinar si puedes ver el rayo de luz desde la tierra\n",
    "# Agrega las instrucciones que se ejecutarán si las expresiones de prueba son True o False\n",
    "\n",
    "vel_asteroide = 19\n",
    "\n",
    "if vel_asteroide > 20:\n",
    "    print ('¡Advertencia! Ubicar rayo cósmico en la atmósfera terrestre.')\n",
    "elif vel_asteroide == 20:\n",
    "    print ('Velocidad en el límite! Posible avistamiento de rayo cósmico cerca de la atmósfera terrestre.')\n",
    "else:\n",
    "    print ('Velocidad dentro del rango. No existe posibilidad de avistamiento cerca de la atmósfera terrestre.')\n"
   ]
  },
  {
   "cell_type": "code",
   "execution_count": 37,
   "metadata": {},
   "outputs": [
    {
     "name": "stdout",
     "output_type": "stream",
     "text": [
      "Sin contratiempos por el momento.\n"
     ]
    }
   ],
   "source": [
    "# Agrega el código para crear nuevas variables para la velocidad y el tamaño del asteroide\n",
    "# Para probar el código, prueba con varias velocidades y tamaños\n",
    "# Escribe varias expresiones de prueba o combinaciones de expresiones de prueba para determinar qué mensaje se debe enviar a Tierra.\n",
    "\n",
    "dim_asteroide = 10\n",
    "vel_asteroide = 19\n",
    "\n",
    "if dim_asteroide > 25 and vel_asteroide >= 20:\n",
    "    print ('¡Mensaje Urgente! Impacto inminente en la tierra, ubicar puntos seguros de resguardo.')\n",
    "elif dim_asteroide > 25 and vel_asteroide < 20:\n",
    "    print ('¡Advertencia! Posibilidad de impacto mínimo en la tierra, tomar debidas precauciones .')\n",
    "elif dim_asteroide > 10 and dim_asteroide < 25:\n",
    "    print ('Aviso importante. Posible ubicación de asteroide cerca de la atmósfera terrestre.')\n",
    "elif vel_asteroide >= 20:\n",
    "    print ('Aviso importante. Posible avistamiento de rayo cosmico en la atmósfera terrestre.')\n",
    "else:\n",
    "    print ('Sin contratiempos por el momento.')"
   ]
  },
  {
   "cell_type": "code",
   "execution_count": 21,
   "metadata": {},
   "outputs": [
    {
     "name": "stdout",
     "output_type": "stream",
     "text": [
      "Libro vendido y cambio por: 40\n"
     ]
    }
   ],
   "source": [
    "efectivo_comprador = 120\n",
    "valor_libro = 80\n",
    "\n",
    "if valor_libro <= efectivo_comprador:\n",
    "   cambio = efectivo_comprador - valor_libro\n",
    "   print('Libro vendido y cambio por: ' + str(cambio))\n",
    "else:\n",
    "   print('Libro no puede ser vendido, no cuenta con suficiente efectivo.')\n",
    "#first_number = 3\n",
    "#second_number = 4\n",
    "#print(first_number + second_number)"
   ]
  },
  {
   "cell_type": "code",
   "execution_count": 2,
   "metadata": {},
   "outputs": [
    {
     "name": "stdout",
     "output_type": "stream",
     "text": [
      "55\n"
     ]
    }
   ],
   "source": [
    "# Tip de práctica 1: Intenta ejecutarlo en un notebook.\n",
    "a = 97\n",
    "b = 55\n",
    "# test expression / expresión de prueba\n",
    "if a > b:\n",
    "    # statement to be run / instrucción a ejecutar\n",
    "    print(b)"
   ]
  },
  {
   "cell_type": "code",
   "execution_count": 3,
   "metadata": {},
   "outputs": [
    {
     "name": "stdout",
     "output_type": "stream",
     "text": [
      "93\n"
     ]
    }
   ],
   "source": [
    "# Aplica el tip de práctica 1.\n",
    "a = 93\n",
    "b = 27\n",
    "if a >= b:\n",
    "    print(a)"
   ]
  },
  {
   "cell_type": "code",
   "execution_count": 5,
   "metadata": {},
   "outputs": [],
   "source": [
    "a = 24\n",
    "b = 44\n",
    "if a <= 0:\n",
    "    print(a)\n",
    "    print(b)"
   ]
  },
  {
   "cell_type": "code",
   "execution_count": 6,
   "metadata": {},
   "outputs": [
    {
     "name": "stdout",
     "output_type": "stream",
     "text": [
      "93\n"
     ]
    }
   ],
   "source": [
    "a = 93\n",
    "b = 27\n",
    "if a >= b:\n",
    "    print(a)\n",
    "else:\n",
    "    print(b)"
   ]
  },
  {
   "cell_type": "code",
   "execution_count": 10,
   "metadata": {},
   "outputs": [
    {
     "name": "stdout",
     "output_type": "stream",
     "text": [
      "93 es mayor o igual que 27\n"
     ]
    }
   ],
   "source": [
    "a = 93\n",
    "b = 27\n",
    "if a >= b:\n",
    "    print(str(a) + \" es mayor o igual que \" + str(b))\n",
    "elif a == b:\n",
    "    print(str(a) + \" es igual que\" + str(b))"
   ]
  },
  {
   "cell_type": "code",
   "execution_count": 17,
   "metadata": {},
   "outputs": [
    {
     "name": "stdout",
     "output_type": "stream",
     "text": [
      "a es mayor que b y b es menor que c\n",
      "a es mayor que b y menor que c\n"
     ]
    }
   ],
   "source": [
    "a = 25\n",
    "b = 16\n",
    "c = 27\n",
    "if a > b:\n",
    "    if b > c:\n",
    "        print (\"a es mayor que b y b es mayor que c\")\n",
    "    else:\n",
    "        print (\"a es mayor que b y b es menor que c\")\n",
    "        if a < c:\n",
    "            print (\"a es mayor que b y menor que c\")\n",
    "elif a == b:\n",
    "    print (\"a es igual que b\")\n",
    "else:\n",
    "    print (\"a es menor que b\")"
   ]
  },
  {
   "cell_type": "code",
   "execution_count": 18,
   "metadata": {},
   "outputs": [
    {
     "name": "stdout",
     "output_type": "stream",
     "text": [
      "57\n"
     ]
    }
   ],
   "source": [
    "a = 23\n",
    "b = 34\n",
    "if a == 34 or b == 34:\n",
    "    print(a + b)"
   ]
  },
  {
   "cell_type": "code",
   "execution_count": 19,
   "metadata": {},
   "outputs": [],
   "source": [
    "a = 23\n",
    "b = 34\n",
    "if a == 34 and b == 34:\n",
    "    print (a + b)"
   ]
  }
 ],
 "metadata": {
  "interpreter": {
   "hash": "c3d1d3774da67434792af1f7f611779dd123df104e44b8130ced968e50017c0b"
  },
  "kernelspec": {
   "display_name": "Python 3.9.2 64-bit ('3.9.2')",
   "language": "python",
   "name": "python3"
  },
  "language_info": {
   "codemirror_mode": {
    "name": "ipython",
    "version": 3
   },
   "file_extension": ".py",
   "mimetype": "text/x-python",
   "name": "python",
   "nbconvert_exporter": "python",
   "pygments_lexer": "ipython3",
   "version": "3.9.2"
  },
  "orig_nbformat": 4
 },
 "nbformat": 4,
 "nbformat_minor": 2
}
